{
 "cells": [
  {
   "cell_type": "markdown",
   "id": "663c0168-1576-4fe0-b85d-3a18f3eee0cd",
   "metadata": {},
   "source": [
    "## Evaluierung\n",
    "Evaluierung des Modells.\n"
   ]
  },
  {
   "cell_type": "markdown",
   "id": "ae332a15-55ef-4c55-9ff0-b89df9ab9277",
   "metadata": {},
   "source": [
    "### Model"
   ]
  },
  {
   "cell_type": "code",
   "execution_count": 18,
   "id": "6eeccda7-c74e-4dd6-a31e-81de2e1ac797",
   "metadata": {},
   "outputs": [
    {
     "name": "stdout",
     "output_type": "stream",
     "text": [
      "MSE (Random Forest): 6087562.53\n",
      "MAE: 1564.44\n"
     ]
    }
   ],
   "source": [
    "from sklearn.ensemble import RandomForestRegressor\n",
    "from sklearn.model_selection import train_test_split\n",
    "from sklearn.metrics import mean_squared_error\n",
    "from sklearn.metrics import mean_absolute_error\n",
    "import pandas as pd\n",
    "\n",
    "df = pd.read_csv(\"bmw-dataset/bmw.csv\", sep=',',  engine='python')\n",
    "\n",
    "def kategorisieren(modell):\n",
    "    if isinstance(modell, str):  \n",
    "        modell = modell.strip() \n",
    "        if modell in [\"X1\", \"X2\", \"X3\", \"X4\", \"X5\", \"X6\", \"X7\"]:\n",
    "            return \"SUV\"\n",
    "        elif modell in [\"2 Series\", \"4 Series\", \"6 Series\", \"8 Series\"]:\n",
    "            return \"Coupé\"\n",
    "        elif modell in [\"Z3\", \"Z4\"]:\n",
    "            return \"Roadster\"\n",
    "        elif modell in [\"i3\", \"i8\"]:\n",
    "            return \"Elektro\"\n",
    "        elif modell in [\"M2\", \"M3\", \"M4\", \"M5\", \"M6\"]:\n",
    "            return \"Sportwagen\"\n",
    "        elif modell in [\"1 Series\"]:\n",
    "            return \"Kompaktklasse\"\n",
    "        elif modell == \"3 Series\":\n",
    "            return \"Mittelklasse\"\n",
    "        elif modell == \"5 Series\":\n",
    "            return \"Obere Mittelklasse\"\n",
    "        elif modell in [\"7 Series\", \"8 Series\"]:\n",
    "            return \"Luxus\"\n",
    "        else:\n",
    "            return \"Unbekannt\"\n",
    "    else:\n",
    "        return \"Unbekannt\"\n",
    "\n",
    "\n",
    "df[\"Kategorie\"] = df[\"model\"].apply(kategorisieren)\n",
    "\n",
    "\n",
    "df.to_csv(\"autos_mit_kategorie.csv\", index=False)\n",
    "\n",
    "df = df[(df['price'] > 1000) & (df['price'] < 80000)]\n",
    "\n",
    "df_encoded = pd.get_dummies(df, columns=['model', 'transmission', 'fuelType', 'Kategorie'])\n",
    "\n",
    "X = df_encoded.drop('price', axis=1)\n",
    "y = df_encoded['price']\n",
    "\n",
    "X_train, X_test, y_train, y_test = train_test_split(X, y, test_size=0.2, random_state=42)\n",
    "\n",
    "model = RandomForestRegressor(n_estimators=100, random_state=42)\n",
    "model.fit(X_train, y_train)\n",
    "\n",
    "y_pred = model.predict(X_test)\n",
    "mse = mean_squared_error(y_test, y_pred)\n",
    "print(f\"MSE (Random Forest): {mse:.2f}\")\n",
    "\n",
    "mae = mean_absolute_error(y_test, y_pred)\n",
    "print(f\"MAE: {mae:.2f}\")"
   ]
  },
  {
   "cell_type": "markdown",
   "id": "d3563a44-e634-440e-b3a8-1194b34b52db",
   "metadata": {},
   "source": [
    "## Felder\n",
    "Als Erstes bestimme ich, welche Felder meines Datensatzes am aussagekräftigsten sind. \n",
    "Dies setze ich um, indem ich immer wieder eine andere Spalte entferne und das Modell neu trainiere.\n",
    "Um den Unterschied darzustellen, benutze ich den MAE da dieser Einfacher zu interpretieren ist. Er stellt den durchschnittlichen absoluten Unterschied zwischen den vorhergesagten Preisen und den tatsächlichen Preisen.\n"
   ]
  },
  {
   "cell_type": "markdown",
   "id": "d0061aa3-6be9-493c-9989-8bc4eb4c9cd4",
   "metadata": {},
   "source": [
    "### Entfernen tax Spalte\n",
    "Minimale Änderung, ca. 15 Euro mehr differenz. Heisst hat nicht so einen grossen Einfluss auf die vorhersage.\n"
   ]
  },
  {
   "cell_type": "code",
   "execution_count": 24,
   "id": "405ac8d9-b32b-4939-9cb7-9252c611618e",
   "metadata": {
    "scrolled": true
   },
   "outputs": [
    {
     "name": "stdout",
     "output_type": "stream",
     "text": [
      "MAE: 1580.32\n"
     ]
    }
   ],
   "source": [
    "X_train_reduced = X_train.drop('tax', axis=1)\n",
    "X_test_reduced = X_test.drop('tax', axis=1)\n",
    "\n",
    "model = RandomForestRegressor(n_estimators=100, random_state=42)\n",
    "model.fit(X_train_reduced, y_train)\n",
    "\n",
    "y_pred = model.predict(X_test_reduced)\n",
    "\n",
    "mae = mean_absolute_error(y_test, y_pred)\n",
    "print(f\"MAE: {mae:.2f}\")"
   ]
  },
  {
   "cell_type": "markdown",
   "id": "d39d60e2-9a04-4467-a62b-ab5791468bdf",
   "metadata": {},
   "source": [
    "### Entfernen mileage Spalte\n",
    "Die Mileage hat schon einen grösseren Einfluss auf die Vorhersage, hier ist die Differenz zum Normalen MAE 250 Euro mehr. "
   ]
  },
  {
   "cell_type": "code",
   "execution_count": 25,
   "id": "78c5d478-612e-42bd-8495-5cfd3067fb14",
   "metadata": {},
   "outputs": [
    {
     "name": "stdout",
     "output_type": "stream",
     "text": [
      "MAE: 1808.60\n"
     ]
    }
   ],
   "source": [
    "X_train_reduced = X_train.drop('mileage', axis=1)\n",
    "X_test_reduced = X_test.drop('mileage', axis=1)\n",
    "\n",
    "model = RandomForestRegressor(n_estimators=100, random_state=42)\n",
    "model.fit(X_train_reduced, y_train)\n",
    "\n",
    "y_pred = model.predict(X_test_reduced)\n",
    "\n",
    "mae = mean_absolute_error(y_test, y_pred)\n",
    "print(f\"MAE: {mae:.2f}\")"
   ]
  },
  {
   "cell_type": "markdown",
   "id": "9d7599de-6877-4959-8553-c8ced6c24dd1",
   "metadata": {},
   "source": [
    "### Entfernung EngineSize Spalte\n",
    "Enginze Size hat wiederum keinen grossen Einfluss mit nur ca. 30 Euro Unterschied."
   ]
  },
  {
   "cell_type": "code",
   "execution_count": 26,
   "id": "e4e1d31a-e64b-4175-95df-92f570558d66",
   "metadata": {},
   "outputs": [
    {
     "name": "stdout",
     "output_type": "stream",
     "text": [
      "MAE: 1596.52\n"
     ]
    }
   ],
   "source": [
    "X_train_reduced = X_train.drop('engineSize', axis=1)\n",
    "X_test_reduced = X_test.drop('engineSize', axis=1)\n",
    "\n",
    "model = RandomForestRegressor(n_estimators=100, random_state=42)\n",
    "model.fit(X_train_reduced, y_train)\n",
    "\n",
    "y_pred = model.predict(X_test_reduced)\n",
    "\n",
    "mae = mean_absolute_error(y_test, y_pred)\n",
    "print(f\"MAE: {mae:.2f}\")"
   ]
  },
  {
   "cell_type": "markdown",
   "id": "8bf3f854-e3ae-44c7-a907-64faa8fc5a3f",
   "metadata": {},
   "source": [
    "### Entfernung mpg Spalte\n",
    "Die Spalte mpg (miles per gallon) hat einen sehr grossen Einfluss auf die Daten, was mich verwundert. Mit einer Differenz von fast 350 Euro. Vielleicht waren die Käufer der Autos ja sehr umweltbewusst."
   ]
  },
  {
   "cell_type": "code",
   "execution_count": 27,
   "id": "fb8e79c4-283d-41b2-83b6-bf864d367573",
   "metadata": {},
   "outputs": [
    {
     "name": "stdout",
     "output_type": "stream",
     "text": [
      "MAE: 1894.62\n"
     ]
    }
   ],
   "source": [
    "X_train_reduced = X_train.drop('mpg', axis=1)\n",
    "X_test_reduced = X_test.drop('mpg', axis=1)\n",
    "\n",
    "model = RandomForestRegressor(n_estimators=100, random_state=42)\n",
    "model.fit(X_train_reduced, y_train)\n",
    "\n",
    "y_pred = model.predict(X_test_reduced)\n",
    "\n",
    "mae = mean_absolute_error(y_test, y_pred)\n",
    "print(f\"MAE: {mae:.2f}\")"
   ]
  },
  {
   "cell_type": "markdown",
   "id": "2417dc18-8356-43f4-8d4b-39508b206f7e",
   "metadata": {},
   "source": [
    "### Warheitsmatrix\n",
    "Um eine Wahrheitsmatrix zu erstellen, brauche ich eine Bedingung, welche überprüft werden kann. Da ich den Preis vorhersage, muss ich irgendeine Bedingung für diesen festlegen. Ich habe mich dazu entschieden, dass ein Auto über 35'000 als teuer gilt und alles darunter als gutes Angebot. "
   ]
  },
  {
   "cell_type": "code",
   "execution_count": 35,
   "id": "0d3b67a2-16e7-4e0a-a0a6-acbe9dbd0103",
   "metadata": {},
   "outputs": [
    {
     "name": "stdout",
     "output_type": "stream",
     "text": [
      "Trefferquote: 0.81\n",
      "Genaugikeit: 0.87\n"
     ]
    }
   ],
   "source": [
    "from sklearn.metrics import confusion_matrix\n",
    "\n",
    "condition = 35000\n",
    "\n",
    "y_test_class = (y_test >= condition).astype(int)\n",
    "y_pred_class = (y_pred >= condition).astype(int)\n",
    "\n",
    "cm = confusion_matrix(y_test_class, y_pred_class)\n",
    "\n",
    "true_negatives  = cm[0, 0]\n",
    "false_positives = cm[0, 1] \n",
    "false_negatives = cm[1, 0] \n",
    "true_positives  = cm[1, 1] \n",
    "\n",
    "recall = true_positives / (true_positives + false_negatives)\n",
    "precision = true_positives / (true_positives + false_positives)\n",
    "\n",
    "\n",
    "print(f\"Trefferquote: {recall:.2f}\")\n",
    "print(f\"Genaugikeit: {precision:.2f}\")"
   ]
  },
  {
   "cell_type": "markdown",
   "id": "ff68a56b-3768-45e0-aab1-36ee9a661cd8",
   "metadata": {},
   "source": [
    "## Fazit\n",
    "Zuerst dachte ich das mein Modell sehr schlecht ist, da der MSE sehr hoch war. Als ich jedoch andere Werte berechnet habe wie den MAE oder die Differenz von einzelnen Preisen und Preisvorhersagen habe ich gemerkt, dass es gar nicht so schlecht ist. Eine Differenz von 1500 Euro ist akzeptabel. Es gibt auch Werte, die weit darunter liegen, im dreistelligen Bereich. Jedoch gibt es auch Ausreisser, die bis zu 5000 Euro daneben liegen. Ich denke ein Problem bei meinem Modell ist der Datensatz, gewisse Werte darin haben gar keinen Einfluss auf den Preis, während andere Werte den 10 oder 20 Fachen Einfluss haben. Grundsätzlich funktioniert das Modell, nicht vertrauenswürdig, aber es funktioniert. "
   ]
  }
 ],
 "metadata": {
  "kernelspec": {
   "display_name": "Python 3 (ipykernel)",
   "language": "python",
   "name": "python3"
  },
  "language_info": {
   "codemirror_mode": {
    "name": "ipython",
    "version": 3
   },
   "file_extension": ".py",
   "mimetype": "text/x-python",
   "name": "python",
   "nbconvert_exporter": "python",
   "pygments_lexer": "ipython3",
   "version": "3.9.13"
  }
 },
 "nbformat": 4,
 "nbformat_minor": 5
}

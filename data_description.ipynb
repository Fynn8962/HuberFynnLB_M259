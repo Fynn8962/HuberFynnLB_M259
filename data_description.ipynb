{
 "cells": [
  {
   "cell_type": "markdown",
   "id": "eaf868ba-5cc2-43ef-aada-48b110647ab8",
   "metadata": {},
   "source": [
    "# BMW Gebrauchtwagenpreis\n",
    "\n",
    "Mein Ziel ist es, anhand der \"Spezifikationen\" eines Autos den Preis `(price)` vorherzusagen. Heisst zu verstehen, welche Daten welche Auswirkungen auf den Preis haben, um dann diesen zu bestimmen.  \n",
    "\n"
   ]
  },
  {
   "cell_type": "code",
   "execution_count": 4,
   "id": "988d8510-0a3c-4d58-8f61-d3403a319beb",
   "metadata": {},
   "outputs": [],
   "source": [
    "import pandas as pd\n",
    "import matplotlib.pyplot as plt\n",
    "import os \n",
    "\n",
    "bmws = pd.read_csv(os.path.join(\"bmw-dataset\", \"bmw.csv\"))"
   ]
  },
  {
   "cell_type": "code",
   "execution_count": 5,
   "id": "5a43c19b-60a5-4a3f-82b3-67dcce5d0d61",
   "metadata": {},
   "outputs": [
    {
     "data": {
      "text/html": [
       "<div>\n",
       "<style scoped>\n",
       "    .dataframe tbody tr th:only-of-type {\n",
       "        vertical-align: middle;\n",
       "    }\n",
       "\n",
       "    .dataframe tbody tr th {\n",
       "        vertical-align: top;\n",
       "    }\n",
       "\n",
       "    .dataframe thead th {\n",
       "        text-align: right;\n",
       "    }\n",
       "</style>\n",
       "<table border=\"1\" class=\"dataframe\">\n",
       "  <thead>\n",
       "    <tr style=\"text-align: right;\">\n",
       "      <th></th>\n",
       "      <th>model</th>\n",
       "      <th>year</th>\n",
       "      <th>price</th>\n",
       "      <th>transmission</th>\n",
       "      <th>mileage</th>\n",
       "      <th>fuelType</th>\n",
       "      <th>tax</th>\n",
       "      <th>mpg</th>\n",
       "      <th>engineSize</th>\n",
       "    </tr>\n",
       "  </thead>\n",
       "  <tbody>\n",
       "    <tr>\n",
       "      <th>0</th>\n",
       "      <td>5 Series</td>\n",
       "      <td>2014</td>\n",
       "      <td>11200</td>\n",
       "      <td>Automatic</td>\n",
       "      <td>67068</td>\n",
       "      <td>Diesel</td>\n",
       "      <td>125</td>\n",
       "      <td>57.6</td>\n",
       "      <td>2.0</td>\n",
       "    </tr>\n",
       "    <tr>\n",
       "      <th>1</th>\n",
       "      <td>6 Series</td>\n",
       "      <td>2018</td>\n",
       "      <td>27000</td>\n",
       "      <td>Automatic</td>\n",
       "      <td>14827</td>\n",
       "      <td>Petrol</td>\n",
       "      <td>145</td>\n",
       "      <td>42.8</td>\n",
       "      <td>2.0</td>\n",
       "    </tr>\n",
       "    <tr>\n",
       "      <th>2</th>\n",
       "      <td>5 Series</td>\n",
       "      <td>2016</td>\n",
       "      <td>16000</td>\n",
       "      <td>Automatic</td>\n",
       "      <td>62794</td>\n",
       "      <td>Diesel</td>\n",
       "      <td>160</td>\n",
       "      <td>51.4</td>\n",
       "      <td>3.0</td>\n",
       "    </tr>\n",
       "    <tr>\n",
       "      <th>3</th>\n",
       "      <td>1 Series</td>\n",
       "      <td>2017</td>\n",
       "      <td>12750</td>\n",
       "      <td>Automatic</td>\n",
       "      <td>26676</td>\n",
       "      <td>Diesel</td>\n",
       "      <td>145</td>\n",
       "      <td>72.4</td>\n",
       "      <td>1.5</td>\n",
       "    </tr>\n",
       "    <tr>\n",
       "      <th>4</th>\n",
       "      <td>7 Series</td>\n",
       "      <td>2014</td>\n",
       "      <td>14500</td>\n",
       "      <td>Automatic</td>\n",
       "      <td>39554</td>\n",
       "      <td>Diesel</td>\n",
       "      <td>160</td>\n",
       "      <td>50.4</td>\n",
       "      <td>3.0</td>\n",
       "    </tr>\n",
       "    <tr>\n",
       "      <th>5</th>\n",
       "      <td>5 Series</td>\n",
       "      <td>2016</td>\n",
       "      <td>14900</td>\n",
       "      <td>Automatic</td>\n",
       "      <td>35309</td>\n",
       "      <td>Diesel</td>\n",
       "      <td>125</td>\n",
       "      <td>60.1</td>\n",
       "      <td>2.0</td>\n",
       "    </tr>\n",
       "    <tr>\n",
       "      <th>6</th>\n",
       "      <td>5 Series</td>\n",
       "      <td>2017</td>\n",
       "      <td>16000</td>\n",
       "      <td>Automatic</td>\n",
       "      <td>38538</td>\n",
       "      <td>Diesel</td>\n",
       "      <td>125</td>\n",
       "      <td>60.1</td>\n",
       "      <td>2.0</td>\n",
       "    </tr>\n",
       "    <tr>\n",
       "      <th>7</th>\n",
       "      <td>2 Series</td>\n",
       "      <td>2018</td>\n",
       "      <td>16250</td>\n",
       "      <td>Manual</td>\n",
       "      <td>10401</td>\n",
       "      <td>Petrol</td>\n",
       "      <td>145</td>\n",
       "      <td>52.3</td>\n",
       "      <td>1.5</td>\n",
       "    </tr>\n",
       "    <tr>\n",
       "      <th>8</th>\n",
       "      <td>4 Series</td>\n",
       "      <td>2017</td>\n",
       "      <td>14250</td>\n",
       "      <td>Manual</td>\n",
       "      <td>42668</td>\n",
       "      <td>Diesel</td>\n",
       "      <td>30</td>\n",
       "      <td>62.8</td>\n",
       "      <td>2.0</td>\n",
       "    </tr>\n",
       "    <tr>\n",
       "      <th>9</th>\n",
       "      <td>5 Series</td>\n",
       "      <td>2016</td>\n",
       "      <td>14250</td>\n",
       "      <td>Automatic</td>\n",
       "      <td>36099</td>\n",
       "      <td>Diesel</td>\n",
       "      <td>20</td>\n",
       "      <td>68.9</td>\n",
       "      <td>2.0</td>\n",
       "    </tr>\n",
       "  </tbody>\n",
       "</table>\n",
       "</div>"
      ],
      "text/plain": [
       "       model  year  price transmission  mileage fuelType  tax   mpg  \\\n",
       "0   5 Series  2014  11200    Automatic    67068   Diesel  125  57.6   \n",
       "1   6 Series  2018  27000    Automatic    14827   Petrol  145  42.8   \n",
       "2   5 Series  2016  16000    Automatic    62794   Diesel  160  51.4   \n",
       "3   1 Series  2017  12750    Automatic    26676   Diesel  145  72.4   \n",
       "4   7 Series  2014  14500    Automatic    39554   Diesel  160  50.4   \n",
       "5   5 Series  2016  14900    Automatic    35309   Diesel  125  60.1   \n",
       "6   5 Series  2017  16000    Automatic    38538   Diesel  125  60.1   \n",
       "7   2 Series  2018  16250       Manual    10401   Petrol  145  52.3   \n",
       "8   4 Series  2017  14250       Manual    42668   Diesel   30  62.8   \n",
       "9   5 Series  2016  14250    Automatic    36099   Diesel   20  68.9   \n",
       "\n",
       "   engineSize  \n",
       "0         2.0  \n",
       "1         2.0  \n",
       "2         3.0  \n",
       "3         1.5  \n",
       "4         3.0  \n",
       "5         2.0  \n",
       "6         2.0  \n",
       "7         1.5  \n",
       "8         2.0  \n",
       "9         2.0  "
      ]
     },
     "execution_count": 5,
     "metadata": {},
     "output_type": "execute_result"
    }
   ],
   "source": [
    "bmws.head(10)"
   ]
  },
  {
   "cell_type": "markdown",
   "id": "a1893a16-d75f-4303-b638-a0aa79d5c47d",
   "metadata": {},
   "source": [
    "## relevante statistische Informationen\n",
    "\n",
    "Definieren von Informationen wie Median, Standardabweichung etc. für die Spalten in `bmw.csv`\n",
    "\n",
    "- model                           \n",
    "  Für das Modell habe ich die vorhandenen Modelle anzeigen lassen, um eine Übersicht zu bekommen. Ausserdem habe ich die\n",
    "  meist vorhandene Modellart ausgelesen.\n",
    "\n",
    "- year                            \n",
    "  Für das Jahr habe ich auch die vorhandenen Jahre anzeigen lassen. Anhand dessen dann das meist vorhandene Jahr und das\n",
    "  Durchschnittsjahr. Zusätzlich noch die Standardabweichung, um zu sehen, wie weit die Werte auseinanderliegen.\n",
    "\n",
    "- mileage                            \n",
    "  Hier habe ich die durchschnittlichen Meilen der Autos berechnet. Anschliessend habe ich mir den kleinsten und den grössten \n",
    "  Wert ausgelesen und dazu noch den Median um die Spanne der Daten zu veranschaulichen. Anschliessend habe ich auch für diese    Daten die Standardabweichung berechnet.\n",
    "\n",
    "- fueltype                \n",
    "  Hier wollte ich nur wissen welche Treibstoffarten im Datensatz vorhanden sind und welche am meisten vorkommt\n",
    "\n",
    "- transmisson                               \n",
    "  Hier wollte ich auch nur herausfinden, welche Getriebearten im Datensatz vorkommen und welche Getriebeart die häufigste ist.\n",
    "\n",
    "- price                         \n",
    "  Beim Preis habe ich auch zuerst den Durchschnittspreis der Autos berechnet. Dann das Auto mit den wenigstens Meilen (welches   ein Neuwagen ist) und das mit den meisten Meilen. Ausserdem habe ich wie die Standardabweichung berechnet und den Median um\n",
    "  etwa die Mitte des Datensatzes zu kennen im Vergleich mit den Min und Max Wert. "
   ]
  },
  {
   "cell_type": "code",
   "execution_count": 6,
   "id": "0de5f220-98b1-4de7-bed5-44766de2757b",
   "metadata": {},
   "outputs": [
    {
     "name": "stdout",
     "output_type": "stream",
     "text": [
      "[' 5 Series' ' 6 Series' ' 1 Series' ' 7 Series' ' 2 Series' ' 4 Series'\n",
      " ' X3' ' 3 Series' ' X5' ' X4' ' i3' ' X1' ' M4' ' X2' ' X6' ' 8 Series'\n",
      " ' Z4' ' X7' ' M5' ' i8' ' M2' ' M3' ' M6' ' Z3']\n",
      "0     3 Series\n",
      "Name: model, dtype: object\n"
     ]
    }
   ],
   "source": [
    "# model Informationen\n",
    "\n",
    "# Vorhandene Modellarten\n",
    "unique_model = bmws['model'].unique()\n",
    "print(unique_model)\n",
    "\n",
    "# Modus\n",
    "model_mode = bmws['model'].mode()\n",
    "print(model_mode)"
   ]
  },
  {
   "cell_type": "code",
   "execution_count": 7,
   "id": "32de8d02-ae77-461f-af51-1041dfba8e18",
   "metadata": {},
   "outputs": [
    {
     "name": "stdout",
     "output_type": "stream",
     "text": [
      "[2014 2018 2016 2017 2015 2019 2013 2020 2002 2004 2007 2008 2011 2012\n",
      " 2009 2006 2010 2003 2001 2005 2000 1999 1996 1997 1998]\n",
      "2017.078935163714\n",
      "0    2019\n",
      "Name: year, dtype: int64\n",
      "2.3490381360718264\n"
     ]
    }
   ],
   "source": [
    "# year Informationen\n",
    "\n",
    "# Vorhandene Jahre\n",
    "unique_year = bmws['year'].unique()\n",
    "print(unique_year)\n",
    "\n",
    "# Durchschnitt\n",
    "year_mean = bmws['year'].mean()\n",
    "print(year_mean)\n",
    "\n",
    "# Modus\n",
    "year_mode = bmws['year'].mode()\n",
    "print(year_mode)\n",
    "\n",
    "# standartabweichung \n",
    "year_std =  bmws['year'].std()\n",
    "print(year_std)"
   ]
  },
  {
   "cell_type": "code",
   "execution_count": 8,
   "id": "86250f62-22ff-4925-8ec5-b57a0d637f00",
   "metadata": {},
   "outputs": [
    {
     "name": "stdout",
     "output_type": "stream",
     "text": [
      "25496.986550412763\n",
      "1\n",
      "214000\n",
      "25143.19255929799\n",
      "18347.0\n"
     ]
    }
   ],
   "source": [
    "# mileage Informationen\n",
    "\n",
    "# Durchschnitt\n",
    "mileage_mean = bmws['mileage'].mean()\n",
    "print(mileage_mean)\n",
    "\n",
    "# min / max\n",
    "mileage_min = bmws['mileage'].min()\n",
    "mileage_max = bmws['mileage'].max()\n",
    "print(mileage_min)\n",
    "print(mileage_max)\n",
    "\n",
    "# Standartabweichung\n",
    "mileage_std = bmws['mileage'].std()\n",
    "print(mileage_std)\n",
    "\n",
    "# Median\n",
    "mileage_median = bmws['mileage'].median()\n",
    "print(mileage_median)"
   ]
  },
  {
   "cell_type": "code",
   "execution_count": 9,
   "id": "33a51e4e-7ae2-4ede-8b4b-66d6f84b495c",
   "metadata": {},
   "outputs": [
    {
     "name": "stdout",
     "output_type": "stream",
     "text": [
      "['Diesel' 'Petrol' 'Other' 'Hybrid' 'Electric']\n",
      "0    Diesel\n",
      "Name: fuelType, dtype: object\n"
     ]
    }
   ],
   "source": [
    "# fueltype Informationen\n",
    "\n",
    "# Vorhandene Benzinarten\n",
    "unique_fueltype = bmws['fuelType'].unique()\n",
    "print(unique_fueltype)\n",
    "\n",
    "# Modus\n",
    "fueltype_mode = bmws['fuelType'].mode()\n",
    "print(fueltype_mode)\n",
    "\n"
   ]
  },
  {
   "cell_type": "code",
   "execution_count": 10,
   "id": "a4548543-f507-4865-b477-5ebc905e3df1",
   "metadata": {},
   "outputs": [
    {
     "name": "stdout",
     "output_type": "stream",
     "text": [
      "['Automatic' 'Manual' 'Semi-Auto']\n",
      "0    Semi-Auto\n",
      "Name: transmission, dtype: object\n"
     ]
    }
   ],
   "source": [
    "# transmisson Informationen\n",
    "\n",
    "# Vorhandene Getriebe\n",
    "unique_transmission = bmws['transmission'].unique()\n",
    "print(unique_transmission)\n",
    "\n",
    "# Modus\n",
    "transmission_mode = bmws['transmission'].mode()\n",
    "print(transmission_mode)"
   ]
  },
  {
   "cell_type": "code",
   "execution_count": 11,
   "id": "c8c4c8ea-d0a4-4d11-8577-88a56e0248e8",
   "metadata": {},
   "outputs": [
    {
     "name": "stdout",
     "output_type": "stream",
     "text": [
      "22733.408867452\n",
      "1200\n",
      "123456\n",
      "11415.528189035635\n",
      "20462.0\n"
     ]
    }
   ],
   "source": [
    "# price Informationen\n",
    "\n",
    "# Durchschnitt\n",
    "price_mean = bmws['price'].mean()\n",
    "print(price_mean)\n",
    "\n",
    "# min / max\n",
    "price_min = bmws['price'].min()\n",
    "price_max = bmws['price'].max()\n",
    "print(price_min)\n",
    "print(price_max)\n",
    "\n",
    "# Standardabweichung\n",
    "price_std = bmws['price'].std()\n",
    "print(price_std)\n",
    "\n",
    "# Median\n",
    "price_mean = bmws['price'].median()\n",
    "print(price_mean)"
   ]
  },
  {
   "cell_type": "markdown",
   "id": "06cd5ab8-73c6-412c-a03d-faad32cfdeb6",
   "metadata": {},
   "source": [
    "## Grafik erstellen \n",
    "\n",
    "Eine Veranschaulichung der Daten durch eine Grafik.\n",
    "1. Grafik: Veranschaulichung der Verteilung der Preise. "
   ]
  },
  {
   "cell_type": "code",
   "execution_count": 12,
   "id": "d03c5055-e58e-4b5d-acd7-3ad649ef479d",
   "metadata": {},
   "outputs": [
    {
     "data": {
      "text/plain": [
       "Text(0, 0.5, 'Anzahl')"
      ]
     },
     "execution_count": 12,
     "metadata": {},
     "output_type": "execute_result"
    },
    {
     "data": {
      "image/png": "[encoded data removed]",
      "text/plain": [
       "<Figure size 1000x700 with 1 Axes>"
      ]
     },
     "metadata": {},
     "output_type": "display_data"
    }
   ],
   "source": [
    "plt.figure(figsize=(10, 7))\n",
    "plt.hist(bmws[\"price\"], bins=30, edgecolor=\"black\", color=\"lightgreen\")\n",
    "plt.title(\"Preisverteilung\")\n",
    "plt.xlabel(\"Preise in Euro\")\n",
    "plt.ylabel(\"Anzahl\")"
   ]
  },
  {
   "cell_type": "markdown",
   "id": "5780d040-5d19-49de-b0cd-6ebcc3f4fe3e",
   "metadata": {},
   "source": [
    "## Skalieren\n",
    "\n",
    "Da mein Datensatz unterschiedliche Werte in unterschiedlichen Einheiten hat, ist es nötig diese Werte zu skalieren. Sonst würden grössere Werte wie z.B der Preis die das Modell mehr beeinflussen als kleinere Werte.  \n",
    "\n",
    "Für diese Aufgabe Skaliere ich das Datenfeld der Preise:"
   ]
  },
  {
   "cell_type": "code",
   "execution_count": 13,
   "id": "f84b3307-1ccb-4306-9253-d1fa4759c747",
   "metadata": {},
   "outputs": [
    {
     "data": {
      "text/plain": [
       "0    0.081796\n",
       "1    0.211033\n",
       "2    0.121057\n",
       "3    0.094474\n",
       "4    0.108788\n",
       "5    0.112060\n",
       "6    0.121057\n",
       "7    0.123102\n",
       "8    0.106743\n",
       "9    0.106743\n",
       "Name: price, dtype: float64"
      ]
     },
     "execution_count": 13,
     "metadata": {},
     "output_type": "execute_result"
    }
   ],
   "source": [
    "bmws_price_diff = bmws['price'].max() - bmws['price'].min()\n",
    "bmws_price_scaled = (bmws['price'] - bmws['price'].min()) / bmws_price_diff\n",
    "\n",
    "bmws_price_scaled.head(10)"
   ]
  }
 ],
 "metadata": {
  "kernelspec": {
   "display_name": "Python 3 (ipykernel)",
   "language": "python",
   "name": "python3"
  },
  "language_info": {
   "codemirror_mode": {
    "name": "ipython",
    "version": 3
   },
   "file_extension": ".py",
   "mimetype": "text/x-python",
   "name": "python",
   "nbconvert_exporter": "python",
   "pygments_lexer": "ipython3",
   "version": "3.9.13"
  }
 },
 "nbformat": 4,
 "nbformat_minor": 5
}
